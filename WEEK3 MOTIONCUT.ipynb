{
 "cells": [
  {
   "cell_type": "code",
   "execution_count": 3,
   "id": "60f9dd30",
   "metadata": {},
   "outputs": [
    {
     "name": "stdout",
     "output_type": "stream",
     "text": [
      "Enter the number of passwords to generate: 8\n",
      "Enter the length of each password: 12345678\n"
     ]
    },
    {
     "name": "stderr",
     "output_type": "stream",
     "text": [
      "IOPub data rate exceeded.\n",
      "The notebook server will temporarily stop sending output\n",
      "to the client in order to avoid crashing it.\n",
      "To change this limit, set the config variable\n",
      "`--NotebookApp.iopub_data_rate_limit`.\n",
      "\n",
      "Current values:\n",
      "NotebookApp.iopub_data_rate_limit=1000000.0 (bytes/sec)\n",
      "NotebookApp.rate_limit_window=3.0 (secs)\n",
      "\n"
     ]
    }
   ],
   "source": [
    "import random\n",
    "import string\n",
    "\n",
    "def generate_password(length):\n",
    "    characters = string.ascii_letters + string.digits + string.punctuation\n",
    "    password = ''.join(random.choice(characters) for _ in range(length))\n",
    "    return password\n",
    "\n",
    "def generate_multiple_passwords(num_passwords, length):\n",
    "    passwords = [generate_password(length) for _ in range(num_passwords)]\n",
    "    return passwords\n",
    "\n",
    "def main():\n",
    "    try:\n",
    "        num_passwords = int(input(\"Enter the number of passwords to generate: \"))\n",
    "        password_length = int(input(\"Enter the length of each password: \"))\n",
    "\n",
    "        if num_passwords <= 0 or password_length <= 0:\n",
    "            print(\"Please enter valid values for number of passwords and password length.\")\n",
    "        else:\n",
    "            generated_passwords = generate_multiple_passwords(num_passwords, password_length)\n",
    "            print(\"\\nGenerated Passwords:\")\n",
    "            for password in generated_passwords:\n",
    "                print(password)\n",
    "\n",
    "    except ValueError:\n",
    "        print(\"Please enter valid integer values.\")\n",
    "\n",
    "if __name__ == \"__main__\":\n",
    "    main()\n"
   ]
  },
  {
   "cell_type": "code",
   "execution_count": null,
   "id": "16782ee4",
   "metadata": {},
   "outputs": [],
   "source": []
  }
 ],
 "metadata": {
  "kernelspec": {
   "display_name": "Python 3 (ipykernel)",
   "language": "python",
   "name": "python3"
  },
  "language_info": {
   "codemirror_mode": {
    "name": "ipython",
    "version": 3
   },
   "file_extension": ".py",
   "mimetype": "text/x-python",
   "name": "python",
   "nbconvert_exporter": "python",
   "pygments_lexer": "ipython3",
   "version": "3.10.9"
  }
 },
 "nbformat": 4,
 "nbformat_minor": 5
}
